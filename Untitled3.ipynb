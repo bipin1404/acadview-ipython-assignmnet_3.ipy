{
  "nbformat": 4,
  "nbformat_minor": 0,
  "metadata": {
    "colab": {
      "name": "Untitled3.ipynb",
      "version": "0.3.2",
      "provenance": [],
      "collapsed_sections": []
    },
    "kernelspec": {
      "name": "python3",
      "display_name": "Python 3"
    }
  },
  "cells": [
    {
      "cell_type": "markdown",
      "metadata": {
        "id": "view-in-github",
        "colab_type": "text"
      },
      "source": [
        "[View in Colaboratory](https://colab.research.google.com/github/bipin1404/acadview-ipython-assignmnet_3.ipy/blob/master/Untitled3.ipynb)"
      ]
    },
    {
      "metadata": {
        "id": "24dF20ouPBQl",
        "colab_type": "code",
        "colab": {
          "base_uri": "https://localhost:8080/",
          "height": 34
        },
        "outputId": "9767eb9f-65e2-4fc5-edd2-c227e52b4173"
      },
      "cell_type": "code",
      "source": [
        "#question 1\n",
        "Pa=11/36\n",
        "Pb=6/36\n",
        "Pab=2/36\n",
        "Pba=(Pab*Pb)/Pa\n",
        "print(\"final answer=\",Pba)\n",
        "#final answer=12/396"
      ],
      "execution_count": 3,
      "outputs": [
        {
          "output_type": "stream",
          "text": [
            "final answer= 0.0303030303030303\n"
          ],
          "name": "stdout"
        }
      ]
    },
    {
      "metadata": {
        "id": "GLkyWHQ-T0GP",
        "colab_type": "code",
        "colab": {
          "base_uri": "https://localhost:8080/",
          "height": 34
        },
        "outputId": "0965387d-5798-4eff-eca2-24b73ac54a29"
      },
      "cell_type": "code",
      "source": [
        "##question 2\n",
        "#A1->for bag 1 A2->for bag 2  \n",
        "#B->for black ball\n",
        "PA1=1/2\n",
        "PA2=1/2\n",
        "PBA1=6/10\n",
        "PBA2=3/7\n",
        "PB=(PA1*PBA1)+(PA2*PBA2)\n",
        "PA1B=(PA1*PBA1)/PB\n",
        "print(\"final answer=\",PA1B)\n",
        "#final answer=7/12\n"
      ],
      "execution_count": 6,
      "outputs": [
        {
          "output_type": "stream",
          "text": [
            "final answer= 0.5833333333333334\n"
          ],
          "name": "stdout"
        }
      ]
    },
    {
      "metadata": {
        "id": "52yiH3MPWLJx",
        "colab_type": "code",
        "colab": {
          "base_uri": "https://localhost:8080/",
          "height": 34
        },
        "outputId": "ad32f445-b8e0-48de-cbd3-4e311cf577de"
      },
      "cell_type": "code",
      "source": [
        "#question 3\n",
        "f=2/7\n",
        "print(\"final answer of question 3 =\",f)\n",
        "#final answer =2/7"
      ],
      "execution_count": 7,
      "outputs": [
        {
          "output_type": "stream",
          "text": [
            "final answer of question 3 = 0.2857142857142857\n"
          ],
          "name": "stdout"
        }
      ]
    }
  ]
}